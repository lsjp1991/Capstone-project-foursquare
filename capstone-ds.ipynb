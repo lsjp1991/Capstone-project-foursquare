# Importing the libraries

import pandas as pd
import numpy as np

print("Hello Captsone Project Course!")
